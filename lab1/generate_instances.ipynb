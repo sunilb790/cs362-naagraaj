{
 "cells": [
  {
   "cell_type": "code",
   "execution_count": 1,
   "id": "offensive-pakistan",
   "metadata": {},
   "outputs": [],
   "source": [
    "import numpy as np\n",
    "import random"
   ]
  },
  {
   "cell_type": "code",
   "execution_count": 2,
   "id": "speaking-diary",
   "metadata": {},
   "outputs": [],
   "source": [
    "def generate_instance(goal_state, depth):\n",
    "    \"\"\"\n",
    "    Generates a random instance of the 8-puzzle at the given depth from the goal state\n",
    "    \n",
    "    Parameters:\n",
    "    goal_state(np.ndarray): A 3x3 numpy array with each cell containing unique elements representing the goal state\n",
    "    depth(int): The depth at which the state is to be generated\n",
    "    \n",
    "    Returns:\n",
    "    curr_state(np.ndarray): A 3x3 numpy array with each cell containing unique elements representing the state at the given depth form, the goal state\n",
    "    \"\"\"\n",
    "    x_prev, y_prev = np.array(np.where(goal_state == 0)).reshape(-1)\n",
    "    curr_state = np.copy(goal_state)\n",
    "    visited = np.array([curr_state.reshape(-1)])\n",
    "    while(depth):\n",
    "        possible_states = []\n",
    "        if x_prev > 0:\n",
    "            possible_states.append([x_prev-1, y_prev])\n",
    "        if x_prev < 2:\n",
    "            possible_states.append([x_prev+1, y_prev])\n",
    "        if y_prev > 0:\n",
    "            possible_states.append([x_prev, y_prev-1])\n",
    "        if y_prev < 2:\n",
    "            possible_states.append([x_prev, y_prev+1])\n",
    "        x_new, y_new = random.choice(possible_states)\n",
    "        curr_state[x_new, y_new], curr_state[x_prev, y_prev] = curr_state[x_prev, y_prev], curr_state[x_new, y_new]\n",
    "        if curr_state.reshape(-1).tolist() not in visited.tolist():\n",
    "            visited = np.vstack((visited, curr_state.reshape(-1)))\n",
    "            x_prev, y_prev = x_new, y_new\n",
    "            depth -= 1\n",
    "        else:\n",
    "            curr_state[x_new, y_new], curr_state[x_prev, y_prev] = curr_state[x_prev, y_prev], curr_state[x_new, y_new]\n",
    "    return curr_state"
   ]
  },
  {
   "cell_type": "code",
   "execution_count": 3,
   "id": "interior-breed",
   "metadata": {},
   "outputs": [
    {
     "name": "stdout",
     "output_type": "stream",
     "text": [
      "Goal State:\n",
      " [[1 2 3]\n",
      " [8 0 4]\n",
      " [7 6 5]]\n"
     ]
    }
   ],
   "source": [
    "GOAL_STATE = np.array([[1, 2, 3], [8, 0, 4], [7, 6, 5]])\n",
    "print(\"Goal State:\\n\", GOAL_STATE)"
   ]
  },
  {
   "cell_type": "code",
   "execution_count": 4,
   "id": "based-humor",
   "metadata": {},
   "outputs": [
    {
     "name": "stdout",
     "output_type": "stream",
     "text": [
      "[[1 2 3]\n",
      " [8 4 5]\n",
      " [7 6 0]]\n"
     ]
    }
   ],
   "source": [
    "print(generate_instance(GOAL_STATE, 5))"
   ]
  },
  {
   "cell_type": "code",
   "execution_count": null,
   "id": "rotary-bosnia",
   "metadata": {},
   "outputs": [],
   "source": []
  }
 ],
 "metadata": {
  "kernelspec": {
   "display_name": "Python 3",
   "language": "python",
   "name": "python3"
  },
  "language_info": {
   "codemirror_mode": {
    "name": "ipython",
    "version": 3
   },
   "file_extension": ".py",
   "mimetype": "text/x-python",
   "name": "python",
   "nbconvert_exporter": "python",
   "pygments_lexer": "ipython3",
   "version": "3.8.5"
  }
 },
 "nbformat": 4,
 "nbformat_minor": 5
}
