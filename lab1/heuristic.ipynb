{
 "cells": [
  {
   "cell_type": "markdown",
   "id": "proud-check",
   "metadata": {},
   "source": [
    "# Heuristic Functions\n",
    "There are two heuristics:\n",
    "- h1 - Heuristic using Manhattan distance\n",
    "- h2 - Heuristic using number of misplaced tiles\n",
    "\n",
    "0 represents a blank tile."
   ]
  },
  {
   "cell_type": "code",
   "execution_count": 8,
   "id": "nominated-worcester",
   "metadata": {},
   "outputs": [],
   "source": [
    "import numpy as np\n",
    "from copy import deepcopy"
   ]
  },
  {
   "cell_type": "code",
   "execution_count": 9,
   "id": "considerable-acquisition",
   "metadata": {},
   "outputs": [],
   "source": [
    "def mat_to_dict(matrix):\n",
    "    \"\"\"\n",
    "    Converts goal state to dictionary to get indices easier\n",
    "    \n",
    "    Parameters:\n",
    "    matrix(np.ndarray): A 3x3 numpy array with each cell containing unique elements\n",
    "    \n",
    "    Returns:\n",
    "    mat_dict(dict[int, tuple[int, int]]): A mapping of cell contents to a tuple\n",
    "    contianing its indices\n",
    "    \"\"\"\n",
    "    mat_dict = {}\n",
    "    for i in range(matrix.shape[0]):\n",
    "        row = matrix[i];\n",
    "        for j in range(matrix.shape[1]):\n",
    "            value = row[j];\n",
    "            mat_dict[value] = (i, j)\n",
    "    return mat_dict"
   ]
  },
  {
   "cell_type": "code",
   "execution_count": 10,
   "id": "informative-insulin",
   "metadata": {},
   "outputs": [],
   "source": [
    "def h1(curr_state, goal_dict):\n",
    "    \"\"\"\n",
    "    Heuristic for calculating the distance of goal state using Manhattan distance\n",
    "    \n",
    "    Parameters:\n",
    "    curr_state(np.ndarray): A 3x3 numpy array with each cell containing unique elements\n",
    "    goal_dict(dict[int, tuple[int, int]]): A mapping of cell contents to a tuple\n",
    "    contianing its indices\n",
    "    \n",
    "    Returns:\n",
    "    h(int): Heuristic value\n",
    "    \"\"\"\n",
    "    h = 0\n",
    "    for i in range(curr_state.shape[0]):\n",
    "        for j in range(curr_state.shape[1]):\n",
    "            value = curr_state[i][j]\n",
    "            x = goal_dict[value][0]\n",
    "            y = goal_dict[value][1]\n",
    "            h += abs(i-x) + abs(j-y)\n",
    "    return h"
   ]
  },
  {
   "cell_type": "code",
   "execution_count": 11,
   "id": "novel-detection",
   "metadata": {},
   "outputs": [],
   "source": [
    "def h2(curr_state, goal_dict):\n",
    "    \"\"\"\n",
    "    Heuristic for calculating the distance of goal state using number of misplaced tiles\n",
    "    \n",
    "    Parameters:\n",
    "    curr_state(np.ndarray): A 3x3 numpy array with each cell containing unique elements\n",
    "    goal_dict(dict[int, tuple[int, int]]): A mapping of cell contents to a tuple\n",
    "    contianing its indices\n",
    "    \n",
    "    Returns:\n",
    "    h(int): Heuristic value\n",
    "    \"\"\"\n",
    "    h = 0\n",
    "    for i in range(curr_state.shape[0]):\n",
    "        for j in range(curr_state.shape[1]):\n",
    "            value = curr_state[i][j]\n",
    "            x = goal_dict[value][0]\n",
    "            y = goal_dict[value][1]\n",
    "            if ((x, y) != (i, j)):\n",
    "                h += 1\n",
    "    return h"
   ]
  },
  {
   "cell_type": "code",
   "execution_count": 12,
   "id": "alike-allowance",
   "metadata": {},
   "outputs": [
    {
     "output_type": "stream",
     "name": "stdout",
     "text": [
      "Goal State:\n [[1 2 3]\n [8 0 4]\n [7 6 5]]\n"
     ]
    }
   ],
   "source": [
    "GOAL_STATE = np.array([[1, 2, 3], [8, 0, 4], [7, 6, 5]])\n",
    "print(\"Goal State:\\n\", GOAL_STATE)"
   ]
  },
  {
   "cell_type": "code",
   "execution_count": 13,
   "id": "according-nudist",
   "metadata": {},
   "outputs": [
    {
     "output_type": "stream",
     "name": "stdout",
     "text": [
      "Goal dict: {1: (0, 0), 2: (0, 1), 3: (0, 2), 8: (1, 0), 0: (1, 1), 4: (1, 2), 7: (2, 0), 6: (2, 1), 5: (2, 2)}\n"
     ]
    }
   ],
   "source": [
    "goal_dict = mat_to_dict(GOAL_STATE)\n",
    "print(\"Goal dict:\", goal_dict)"
   ]
  },
  {
   "cell_type": "code",
   "execution_count": 14,
   "id": "static-sapphire",
   "metadata": {},
   "outputs": [
    {
     "output_type": "stream",
     "name": "stdout",
     "text": [
      "Current State:\n [[2 3 0]\n [1 8 4]\n [7 6 5]]\n"
     ]
    }
   ],
   "source": [
    "# Change this to test\n",
    "CURR_STATE = np.array([[2, 3, 0], [1, 8, 4], [7, 6, 5]])\n",
    "print(\"Current State:\\n\", CURR_STATE)"
   ]
  },
  {
   "cell_type": "code",
   "execution_count": 15,
   "id": "furnished-butterfly",
   "metadata": {},
   "outputs": [
    {
     "output_type": "stream",
     "name": "stdout",
     "text": [
      "Value from h1: 6\n"
     ]
    }
   ],
   "source": [
    "# Heuristic 1\n",
    "print(\"Value from h1:\", h1(CURR_STATE, goal_dict))"
   ]
  },
  {
   "cell_type": "code",
   "execution_count": 16,
   "id": "saving-wrist",
   "metadata": {},
   "outputs": [
    {
     "output_type": "stream",
     "name": "stdout",
     "text": [
      "Value from h2: 5\n"
     ]
    }
   ],
   "source": [
    "# Heuristic 2\n",
    "print(\"Value from h2:\", h2(CURR_STATE, goal_dict))"
   ]
  },
  {
   "cell_type": "code",
   "execution_count": 17,
   "id": "false-inspiration",
   "metadata": {},
   "outputs": [],
   "source": [
    "def find_pos(matrix,value):\n",
    "    if value < 0 or value > 8:\n",
    "        raise Exception (\"Give the value is out of range\")\n",
    "    else:\n",
    "        for row in range(len(matrix)):\n",
    "            for col in range(len(matrix)):\n",
    "                if (matrix[row][col] == value):\n",
    "                    return row, col"
   ]
  },
  {
   "cell_type": "code",
   "execution_count": 18,
   "metadata": {},
   "outputs": [],
   "source": [
    "\n",
    "def possible_moves(matrix):\n",
    "    row,col = find_row_col(matrix,0)\n",
    "    possible_moves = list()\n",
    "    if row > 0:\n",
    "                possible_moves.append((row-1,col))\n",
    "    if row < 2:\n",
    "                possible_moves.append((row+1,col))\n",
    "    if col > 0:\n",
    "                possible_moves.append((row,col-1))\n",
    "    if col < 2:\n",
    "                possible_moves.append((row,col+1))\n",
    "    return possible_moves"
   ]
  },
  {
   "cell_type": "code",
   "execution_count": 19,
   "metadata": {},
   "outputs": [],
   "source": [
    "def swap_tiles(matrix,next_pos):\n",
    "    row,col=find_pos(matrix,0)\n",
    "    blank_tile=matrix[row][col]\n",
    "    swap_tile=matrix[next_pos[0]][next_pos[1]]\n",
    "    matrix[row][col]=swap_tile\n",
    "    matrix[next_pos[0]][next_pos[1]]=blank_tile\n",
    "    return matrix\n"
   ]
  },
  {
   "cell_type": "code",
   "execution_count": 20,
   "metadata": {},
   "outputs": [],
   "source": [
    "def possibe_moves(current_state):\n",
    "    row,col=find_pos(matrix,0)\n",
    "    ans_list=[]\n",
    "    if(row>0):\n",
    "        ans_list.append((row-1,col))\n",
    "    if(row<2):\n",
    "        ans_list.append((row+1,col))\n",
    "    if(col>0):\n",
    "        ans_list.append((row,col-1))\n",
    "    if(col<2):\n",
    "        ans_list.append((row,col+1))\n",
    "    return ans_list"
   ]
  },
  {
   "cell_type": "code",
   "execution_count": 6,
   "metadata": {},
   "outputs": [],
   "source": [
    "def solve(curr_state):\n",
    "    next_possible=[]\n",
    "    heurestic_val=[]\n",
    "    choosen_matrix=curr_state\n",
    "    choosen_dict = mat_to_dict(choosen_matrix)\n",
    "    if (chosen_dict == goal_dict):\n",
    "        print(\"REACHED THE GOAL STATE\")\n",
    "        return \n",
    "    for i in possible_moves(curr_state):\n",
    "        matrix2=deepcopy(curr_state)\n",
    "        temp=swap_tiles(matrix2,i)\n",
    "        next_possible.append(temp)\n",
    "\n",
    "        c=h1(temp,GOAL_STATE) # calculate herestic val\n",
    "        heurestic_val.append(c)\n",
    "    for k in range(len(next_possible)):\n",
    "        if(heurestic_val[k]==min(heurestic_val)):\n",
    "            choosen_matrix=next_possible[k]\n",
    "    print(choosen_matrix)\n",
    "    choosen_dict = mat_to_dict(choosen_matrix)\n",
    "    if (chosen_dict == goal_dict):\n",
    "        print(\"REACHED THE GOAL STATE\")\n",
    "    else:\n",
    "        solve(curr_state)\n"
   ]
  },
  {
   "cell_type": "code",
   "execution_count": 21,
   "metadata": {},
   "outputs": [
    {
     "output_type": "error",
     "ename": "AttributeError",
     "evalue": "'list' object has no attribute 'shape'",
     "traceback": [
      "\u001b[1;31m---------------------------------------------------------------------------\u001b[0m",
      "\u001b[1;31mAttributeError\u001b[0m                            Traceback (most recent call last)",
      "\u001b[1;32m<ipython-input-21-d9eb8e44cdac>\u001b[0m in \u001b[0;36m<module>\u001b[1;34m\u001b[0m\n\u001b[1;32m----> 1\u001b[1;33m \u001b[0msolve\u001b[0m\u001b[1;33m(\u001b[0m \u001b[1;33m[\u001b[0m\u001b[1;33m[\u001b[0m\u001b[1;36m1\u001b[0m\u001b[1;33m,\u001b[0m\u001b[1;36m2\u001b[0m\u001b[1;33m,\u001b[0m\u001b[1;36m3\u001b[0m\u001b[1;33m]\u001b[0m\u001b[1;33m,\u001b[0m\u001b[1;33m[\u001b[0m\u001b[1;36m4\u001b[0m\u001b[1;33m,\u001b[0m\u001b[1;36m5\u001b[0m\u001b[1;33m,\u001b[0m\u001b[1;36m6\u001b[0m\u001b[1;33m]\u001b[0m\u001b[1;33m,\u001b[0m\u001b[1;33m[\u001b[0m\u001b[1;36m0\u001b[0m\u001b[1;33m,\u001b[0m\u001b[1;36m7\u001b[0m\u001b[1;33m,\u001b[0m\u001b[1;36m8\u001b[0m\u001b[1;33m]\u001b[0m\u001b[1;33m]\u001b[0m\u001b[1;33m)\u001b[0m\u001b[1;33m\u001b[0m\u001b[1;33m\u001b[0m\u001b[0m\n\u001b[0m",
      "\u001b[1;32m<ipython-input-6-7dc6b4702375>\u001b[0m in \u001b[0;36msolve\u001b[1;34m(curr_state)\u001b[0m\n\u001b[0;32m      3\u001b[0m     \u001b[0mheurestic_val\u001b[0m\u001b[1;33m=\u001b[0m\u001b[1;33m[\u001b[0m\u001b[1;33m]\u001b[0m\u001b[1;33m\u001b[0m\u001b[1;33m\u001b[0m\u001b[0m\n\u001b[0;32m      4\u001b[0m     \u001b[0mchoosen_matrix\u001b[0m\u001b[1;33m=\u001b[0m\u001b[0mcurr_state\u001b[0m\u001b[1;33m\u001b[0m\u001b[1;33m\u001b[0m\u001b[0m\n\u001b[1;32m----> 5\u001b[1;33m     \u001b[0mchoosen_dict\u001b[0m \u001b[1;33m=\u001b[0m \u001b[0mmat_to_dict\u001b[0m\u001b[1;33m(\u001b[0m\u001b[0mchoosen_matrix\u001b[0m\u001b[1;33m)\u001b[0m\u001b[1;33m\u001b[0m\u001b[1;33m\u001b[0m\u001b[0m\n\u001b[0m\u001b[0;32m      6\u001b[0m     \u001b[1;32mif\u001b[0m \u001b[1;33m(\u001b[0m\u001b[0mchosen_dict\u001b[0m \u001b[1;33m==\u001b[0m \u001b[0mgoal_dict\u001b[0m\u001b[1;33m)\u001b[0m\u001b[1;33m:\u001b[0m\u001b[1;33m\u001b[0m\u001b[1;33m\u001b[0m\u001b[0m\n\u001b[0;32m      7\u001b[0m         \u001b[0mprint\u001b[0m\u001b[1;33m(\u001b[0m\u001b[1;34m\"REACHED THE GOAL STATE\"\u001b[0m\u001b[1;33m)\u001b[0m\u001b[1;33m\u001b[0m\u001b[1;33m\u001b[0m\u001b[0m\n",
      "\u001b[1;32m<ipython-input-9-4ecd68ab031d>\u001b[0m in \u001b[0;36mmat_to_dict\u001b[1;34m(matrix)\u001b[0m\n\u001b[0;32m     11\u001b[0m     \"\"\"\n\u001b[0;32m     12\u001b[0m     \u001b[0mmat_dict\u001b[0m \u001b[1;33m=\u001b[0m \u001b[1;33m{\u001b[0m\u001b[1;33m}\u001b[0m\u001b[1;33m\u001b[0m\u001b[1;33m\u001b[0m\u001b[0m\n\u001b[1;32m---> 13\u001b[1;33m     \u001b[1;32mfor\u001b[0m \u001b[0mi\u001b[0m \u001b[1;32min\u001b[0m \u001b[0mrange\u001b[0m\u001b[1;33m(\u001b[0m\u001b[0mmatrix\u001b[0m\u001b[1;33m.\u001b[0m\u001b[0mshape\u001b[0m\u001b[1;33m[\u001b[0m\u001b[1;36m0\u001b[0m\u001b[1;33m]\u001b[0m\u001b[1;33m)\u001b[0m\u001b[1;33m:\u001b[0m\u001b[1;33m\u001b[0m\u001b[1;33m\u001b[0m\u001b[0m\n\u001b[0m\u001b[0;32m     14\u001b[0m         \u001b[0mrow\u001b[0m \u001b[1;33m=\u001b[0m \u001b[0mmatrix\u001b[0m\u001b[1;33m[\u001b[0m\u001b[0mi\u001b[0m\u001b[1;33m]\u001b[0m\u001b[1;33m;\u001b[0m\u001b[1;33m\u001b[0m\u001b[1;33m\u001b[0m\u001b[0m\n\u001b[0;32m     15\u001b[0m         \u001b[1;32mfor\u001b[0m \u001b[0mj\u001b[0m \u001b[1;32min\u001b[0m \u001b[0mrange\u001b[0m\u001b[1;33m(\u001b[0m\u001b[0mmatrix\u001b[0m\u001b[1;33m.\u001b[0m\u001b[0mshape\u001b[0m\u001b[1;33m[\u001b[0m\u001b[1;36m1\u001b[0m\u001b[1;33m]\u001b[0m\u001b[1;33m)\u001b[0m\u001b[1;33m:\u001b[0m\u001b[1;33m\u001b[0m\u001b[1;33m\u001b[0m\u001b[0m\n",
      "\u001b[1;31mAttributeError\u001b[0m: 'list' object has no attribute 'shape'"
     ]
    }
   ],
   "source": [
    "solve( [[1,2,3],[4,5,6],[0,7,8]])"
   ]
  },
  {
   "cell_type": "code",
   "execution_count": null,
   "metadata": {},
   "outputs": [],
   "source": []
  }
 ],
 "metadata": {
  "kernelspec": {
   "name": "python3",
   "display_name": "Python 3.9.1 64-bit",
   "metadata": {
    "interpreter": {
     "hash": "ac59ebe37160ed0dfa835113d9b8498d9f09ceb179beaac4002f036b9467c963"
    }
   }
  },
  "language_info": {
   "codemirror_mode": {
    "name": "ipython",
    "version": 3
   },
   "file_extension": ".py",
   "mimetype": "text/x-python",
   "name": "python",
   "nbconvert_exporter": "python",
   "pygments_lexer": "ipython3",
   "version": "3.9.1-final"
  }
 },
 "nbformat": 4,
 "nbformat_minor": 5
}