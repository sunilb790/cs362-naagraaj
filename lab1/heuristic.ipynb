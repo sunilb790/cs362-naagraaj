{
 "cells": [
  {
   "cell_type": "markdown",
   "metadata": {},
   "source": [
    "# Heuristic Functions\n",
    "There are two heuristics:\n",
    "- h1 - Heuristic using Manhattan distance\n",
    "- h2 - Heuristic using number of misplaced tiles\n",
    "\n",
    "0 represents a blank tile."
   ]
  },
  {
   "cell_type": "code",
   "execution_count": 2,
   "metadata": {},
   "outputs": [],
   "source": [
    "import numpy as np"
   ]
  },
  {
   "cell_type": "code",
   "execution_count": 3,
   "metadata": {},
   "outputs": [],
   "source": [
    "def mat_to_dict(matrix):\n",
    "    \"\"\"\n",
    "    Converts goal state to dictionary to get indices easier\n",
    "    \n",
    "    Parameters:\n",
    "    matrix(np.ndarray): A 3x3 numpy array with each cell containing unique elements\n",
    "    \n",
    "    Returns:\n",
    "    mat_dict(dict[int, tuple[int, int]]): A mapping of cell contents to a tuple\n",
    "    contianing its indices\n",
    "    \"\"\"\n",
    "    mat_dict = {}\n",
    "    for i in range(matrix.shape[0]):\n",
    "        row = matrix[i];\n",
    "        for j in range(matrix.shape[1]):\n",
    "            value = row[j];\n",
    "            mat_dict[value] = (i, j)\n",
    "    return mat_dict"
   ]
  },
  {
   "cell_type": "code",
   "execution_count": 4,
   "metadata": {},
   "outputs": [],
   "source": [
    "def h1(curr_state, goal_dict):\n",
    "    \"\"\"\n",
    "    Heuristic for calculating the distance of goal state using Manhattan distance\n",
    "    \n",
    "    Parameters:\n",
    "    curr_state(np.ndarray): A 3x3 numpy array with each cell containing unique elements\n",
    "    goal_dict(dict[int, tuple[int, int]]): A mapping of cell contents to a tuple\n",
    "    contianing its indices\n",
    "    \n",
    "    Returns:\n",
    "    h(int): Heuristic value\n",
    "    \"\"\"\n",
    "    h = 0\n",
    "    for i in range(curr_state.shape[0]):\n",
    "        for j in range(curr_state.shape[1]):\n",
    "            value = curr_state[i][j]\n",
    "            x = goal_dict[value][0]\n",
    "            y = goal_dict[value][1]\n",
    "            h += abs(i-x) + abs(j-y)\n",
    "    return h"
   ]
  },
  {
   "cell_type": "code",
   "execution_count": 5,
   "metadata": {},
   "outputs": [],
   "source": [
    "def h2(curr_state, goal_dict):\n",
    "    \"\"\"\n",
    "    Heuristic for calculating the distance of goal state using number of misplaced tiles\n",
    "    \n",
    "    Parameters:\n",
    "    curr_state(np.ndarray): A 3x3 numpy array with each cell containing unique elements\n",
    "    goal_dict(dict[int, tuple[int, int]]): A mapping of cell contents to a tuple\n",
    "    contianing its indices\n",
    "    \n",
    "    Returns:\n",
    "    h(int): Heuristic value\n",
    "    \"\"\"\n",
    "    h = 0\n",
    "    for i in range(curr_state.shape[0]):\n",
    "        for j in range(curr_state.shape[1]):\n",
    "            value = curr_state[i][j]\n",
    "            x = goal_dict[value][0]\n",
    "            y = goal_dict[value][1]\n",
    "            if ((x, y) != (i, j)):\n",
    "                h += 1\n",
    "    return h"
   ]
  },
  {
   "cell_type": "code",
   "execution_count": 6,
   "metadata": {},
   "outputs": [
    {
     "name": "stdout",
     "output_type": "stream",
     "text": [
      "Goal State:\n",
      " [[1 2 3]\n",
      " [8 0 4]\n",
      " [7 6 5]]\n"
     ]
    }
   ],
   "source": [
    "GOAL_STATE = np.array([[1, 2, 3], [8, 0, 4], [7, 6, 5]])\n",
    "print(\"Goal State:\\n\", GOAL_STATE)"
   ]
  },
  {
   "cell_type": "code",
   "execution_count": 7,
   "metadata": {},
   "outputs": [
    {
     "name": "stdout",
     "output_type": "stream",
     "text": [
      "Goal dict: {1: (0, 0), 2: (0, 1), 3: (0, 2), 8: (1, 0), 0: (1, 1), 4: (1, 2), 7: (2, 0), 6: (2, 1), 5: (2, 2)}\n"
     ]
    }
   ],
   "source": [
    "goal_dict = mat_to_dict(GOAL_STATE)\n",
    "print(\"Goal dict:\", goal_dict)"
   ]
  },
  {
   "cell_type": "code",
   "execution_count": 8,
   "metadata": {},
   "outputs": [
    {
     "name": "stdout",
     "output_type": "stream",
     "text": [
      "Current State:\n",
      " [[2 3 0]\n",
      " [1 8 4]\n",
      " [7 6 5]]\n"
     ]
    }
   ],
   "source": [
    "# Change this to test\n",
    "CURR_STATE = np.array([[2, 3, 0], [1, 8, 4], [7, 6, 5]])\n",
    "print(\"Current State:\\n\", CURR_STATE)"
   ]
  },
  {
   "cell_type": "code",
   "execution_count": 9,
   "metadata": {},
   "outputs": [
    {
     "name": "stdout",
     "output_type": "stream",
     "text": [
      "Value from h1: 6\n"
     ]
    }
   ],
   "source": [
    "# Heuristic 1\n",
    "print(\"Value from h1:\", h1(CURR_STATE, goal_dict))"
   ]
  },
  {
   "cell_type": "code",
   "execution_count": 10,
   "metadata": {},
   "outputs": [
    {
     "name": "stdout",
     "output_type": "stream",
     "text": [
      "Value from h2: 5\n"
     ]
    }
   ],
   "source": [
    "# Heuristic 2\n",
    "print(\"Value from h2:\", h2(CURR_STATE, goal_dict))"
   ]
  },
  {
   "cell_type": "code",
   "execution_count": null,
   "metadata": {},
   "outputs": [],
   "source": []
  }
 ],
 "metadata": {
  "kernelspec": {
   "display_name": "Python 3",
   "language": "python",
   "name": "python3"
  },
  "language_info": {
   "codemirror_mode": {
    "name": "ipython",
    "version": 3
   },
   "file_extension": ".py",
   "mimetype": "text/x-python",
   "name": "python",
   "nbconvert_exporter": "python",
   "pygments_lexer": "ipython3",
   "version": "3.8.5"
  }
 },
 "nbformat": 4,
 "nbformat_minor": 5
}
