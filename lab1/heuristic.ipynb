{
 "cells": [
  {
   "cell_type": "markdown",
   "id": "thermal-uruguay",
   "metadata": {},
   "source": [
    "# Heuristic Functions\n",
    "There are two heuristics:\n",
    "- h1 - Heuristic using Manhattan distance\n",
    "- h2 - Heuristic using number of misplaced tiles\n",
    "\n",
    "0 represents a blank tile."
   ]
  },
  {
   "cell_type": "code",
   "execution_count": 43,
   "id": "athletic-concentration",
   "metadata": {},
   "outputs": [],
   "source": [
    "import numpy as np"
   ]
  },
  {
   "cell_type": "code",
   "execution_count": 44,
   "id": "continent-instrumentation",
   "metadata": {},
   "outputs": [],
   "source": [
    "def h1(curr_state, goal_state):\n",
    "    \"\"\"\n",
    "    Heuristic for calculating the distance of goal state using Manhattan distance\n",
    "    \n",
    "    Parameters:\n",
    "    curr_state(np.ndarray): A 3x3 numpy array with each cell containing unique elements\n",
    "    goal_state(np.ndarray): A 3x3 numpy array with each cell containing unique elements\n",
    "    \n",
    "    Returns:\n",
    "    h(int): Heuristic value\n",
    "    \"\"\"\n",
    "    goal_indices = np.argsort(goal_state.reshape(-1,1), axis=0)\n",
    "    curr_indices = np.argsort(curr_state.reshape(-1,1), axis=0)\n",
    "    x = (abs(goal_indices // 3 - curr_indices // 3))\n",
    "    y = (abs(goal_indices % 3 - curr_indices % 3))\n",
    "    h = np.sum(x + y)\n",
    "    return h"
   ]
  },
  {
   "cell_type": "code",
   "execution_count": 45,
   "id": "electric-receiver",
   "metadata": {},
   "outputs": [],
   "source": [
    "def h2(curr_state, goal_state):\n",
    "    \"\"\"\n",
    "    Heuristic for calculating the distance of goal state using number of misplaced tiles\n",
    "    \n",
    "    Parameters:\n",
    "    curr_state(np.ndarray): A 3x3 numpy array with each cell containing unique elements\n",
    "    goal_state(np.ndarray): A 3x3 numpy array with each cell containing unique elements\n",
    "    \n",
    "    Returns:\n",
    "    h(int): Heuristic value\n",
    "    \"\"\"\n",
    "    h = np.sum(curr_state == goal_state)\n",
    "    return h"
   ]
  },
  {
   "cell_type": "code",
   "execution_count": 46,
   "id": "forward-transition",
   "metadata": {},
   "outputs": [
    {
     "name": "stdout",
     "output_type": "stream",
     "text": [
      "Goal State:\n",
      " [[1 2 3]\n",
      " [8 0 4]\n",
      " [7 6 5]]\n"
     ]
    }
   ],
   "source": [
    "GOAL_STATE = np.array([[1, 2, 3], [8, 0, 4], [7, 6, 5]])\n",
    "print(\"Goal State:\\n\", GOAL_STATE)"
   ]
  },
  {
   "cell_type": "code",
   "execution_count": 47,
   "id": "neither-modification",
   "metadata": {},
   "outputs": [
    {
     "name": "stdout",
     "output_type": "stream",
     "text": [
      "Current State:\n",
      " [[2 3 0]\n",
      " [1 8 4]\n",
      " [7 6 5]]\n"
     ]
    }
   ],
   "source": [
    "# Change this state to test\n",
    "CURR_STATE = np.array([[2, 3, 0], [1, 8, 4], [7, 6, 5]])\n",
    "print(\"Current State:\\n\", CURR_STATE)"
   ]
  },
  {
   "cell_type": "code",
   "execution_count": 48,
   "id": "parental-tucson",
   "metadata": {},
   "outputs": [
    {
     "name": "stdout",
     "output_type": "stream",
     "text": [
      "Value from h1: 6\n"
     ]
    }
   ],
   "source": [
    "# Heuristic 1\n",
    "print(\"Value from h1:\", h1(CURR_STATE, GOAL_STATE))"
   ]
  },
  {
   "cell_type": "code",
   "execution_count": 49,
   "id": "split-madonna",
   "metadata": {},
   "outputs": [
    {
     "name": "stdout",
     "output_type": "stream",
     "text": [
      "Value from h2: 4\n"
     ]
    }
   ],
   "source": [
    "# Heuristic 2\n",
    "print(\"Value from h2:\", h2(CURR_STATE, GOAL_STATE))"
   ]
  },
  {
   "cell_type": "code",
   "execution_count": null,
   "id": "noted-elimination",
   "metadata": {},
   "outputs": [],
   "source": []
  }
 ],
 "metadata": {
  "kernelspec": {
   "display_name": "Python 3",
   "language": "python",
   "name": "python3"
  },
  "language_info": {
   "codemirror_mode": {
    "name": "ipython",
    "version": 3
   },
   "file_extension": ".py",
   "mimetype": "text/x-python",
   "name": "python",
   "nbconvert_exporter": "python",
   "pygments_lexer": "ipython3",
   "version": "3.8.5"
  }
 },
 "nbformat": 4,
 "nbformat_minor": 5
}
