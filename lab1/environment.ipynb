{
 "cells": [
  {
   "cell_type": "markdown",
   "metadata": {},
   "source": [
    "# Environment Functions\n",
    "- Get the matrix from the frontier\n",
    "\n",
    "\n",
    "0 represents a blank tile."
   ]
  },
  {
   "cell_type": "code",
   "execution_count": 7,
   "metadata": {},
   "outputs": [],
   "source": [
    "import numpy as np\n",
    "from copy import deepcopy"
   ]
  },
  {
   "cell_type": "code",
   "execution_count": 8,
   "metadata": {},
   "outputs": [],
   "source": [
    "class Node:\n",
    "    \"\"\"\n",
    "    This class contains the attributes carried by one node\n",
    "    \"\"\"\n",
    "    def __init__(self, matrix):\n",
    "        self.matrix = matrix\n",
    "        self.is_visited = False"
   ]
  },
  {
   "cell_type": "code",
   "execution_count": 9,
   "metadata": {},
   "outputs": [],
   "source": [
    "def get_position(matrix, value):\n",
    "    \"\"\"\n",
    "    Gets the positon of the blank tile and returns the row \n",
    "    and column coordinates.\n",
    "    \"\"\"\n",
    "    \n",
    "    if value < 0 or value > 8:\n",
    "        raise Exception(\"Given value is not in the matrix!\")\n",
    "    else:\n",
    "        for row in range(len(matrix)):\n",
    "            for col in range(len(matrix)):\n",
    "                if matrix[row][col] == value:\n",
    "                    return row, col"
   ]
  },
  {
   "cell_type": "code",
   "execution_count": 10,
   "metadata": {},
   "outputs": [],
   "source": [
    "def get_matrix(matrix, row, col, move):\n",
    "    \"\"\"\n",
    "    Returns the possible transitions of the blank tile.\n",
    "    \"\"\"\n",
    "    \n",
    "    blank_tile = matrix[row][col]\n",
    "    swap_tile = matrix[move[0]][move[1]]\n",
    "    matrix[row][col] = swap_tile\n",
    "    matrix[move[0]][move[1]] = blank_tile\n",
    "    return matrix"
   ]
  },
  {
   "cell_type": "code",
   "execution_count": 13,
   "metadata": {},
   "outputs": [],
   "source": [
    "def get_frontier(node: Node):\n",
    "    \"\"\"\n",
    "    Returns the list of all possible transition matrix for the current postion of the blank tile\n",
    "    \"\"\"\n",
    "    \n",
    "    print(\"Current State: \\n\", node.matrix, \"\\n\")\n",
    "    # Check if the node is visited or not, mark visited if not\n",
    "    if node.is_visited == False:\n",
    "        node.is_visited = True\n",
    "\n",
    "    row, col = get_position(node.matrix, 0)\n",
    "    possible_moves = list()\n",
    "    if row > 0:\n",
    "        possible_moves.append((row - 1, col))\n",
    "    if row < 2:\n",
    "        possible_moves.append((row + 1, col))\n",
    "    if col > 0:\n",
    "        possible_moves.append((row, col - 1))\n",
    "    if col < 2:\n",
    "        possible_moves.append((row, col + 1))\n",
    "        \n",
    "    frontier = list()\n",
    "    for move in possible_moves:\n",
    "        copy_matrix = deepcopy(node.matrix)\n",
    "        frontier.append(get_matrix(copy_matrix, row, col, move))\n",
    "\n",
    "    return frontier"
   ]
  },
  {
   "cell_type": "code",
   "execution_count": 15,
   "metadata": {},
   "outputs": [
    {
     "name": "stdout",
     "output_type": "stream",
     "text": [
      "Current State: \n",
      " [[1 3 2]\n",
      " [8 0 4]\n",
      " [7 6 5]] \n",
      "\n",
      "\n",
      "Possible Transition states: \n",
      "\n",
      " [[1 0 2]\n",
      " [8 3 4]\n",
      " [7 6 5]]\n",
      "\n",
      " [[1 3 2]\n",
      " [8 6 4]\n",
      " [7 0 5]]\n",
      "\n",
      " [[1 3 2]\n",
      " [0 8 4]\n",
      " [7 6 5]]\n",
      "\n",
      " [[1 3 2]\n",
      " [8 4 0]\n",
      " [7 6 5]]\n"
     ]
    }
   ],
   "source": [
    "CURR_STATE = np.array([[1, 3, 2], [8, 0, 4], [7, 6, 5]])\n",
    "frontier = get_frontier(Node(CURR_STATE))\n",
    "\n",
    "print(\"Possible Transition states: \")\n",
    "for matrix in frontier:\n",
    "    print(\"\\n\", matrix)"
   ]
  },
  {
   "cell_type": "code",
   "execution_count": null,
   "metadata": {},
   "outputs": [],
   "source": []
  }
 ],
 "metadata": {
  "kernelspec": {
   "display_name": "Python 3",
   "language": "python",
   "name": "python3"
  },
  "language_info": {
   "codemirror_mode": {
    "name": "ipython",
    "version": 3
   },
   "file_extension": ".py",
   "mimetype": "text/x-python",
   "name": "python",
   "nbconvert_exporter": "python",
   "pygments_lexer": "ipython3",
   "version": "3.8.5"
  }
 },
 "nbformat": 4,
 "nbformat_minor": 4
}
